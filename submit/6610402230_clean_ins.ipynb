{
 "cells": [
  {
   "cell_type": "markdown",
   "metadata": {},
   "source": [
    "# การทำความสะอาดข้อมูล - โดย 6610402230 ศิริสุข ทานธรรม"
   ]
  },
  {
   "cell_type": "markdown",
   "metadata": {},
   "source": [
    "## 1.Import Library"
   ]
  },
  {
   "cell_type": "code",
   "execution_count": 66,
   "metadata": {},
   "outputs": [],
   "source": [
    "import pandas as pd\n",
    "import statistics\n",
    "import numpy as np\n",
    "import matplotlib.pyplot as plt\n",
    "import seaborn as sns\n",
    "from pathlib import Path"
   ]
  },
  {
   "cell_type": "markdown",
   "metadata": {},
   "source": [
    "## 2. แสดงจำนวน Files"
   ]
  },
  {
   "cell_type": "code",
   "execution_count": 67,
   "metadata": {},
   "outputs": [
    {
     "name": "stdout",
     "output_type": "stream",
     "text": [
      "Files found:\n",
      "0. links_small.csv\n",
      "1. links.csv\n",
      "2. credits.csv\n",
      "3. movies_metadata.csv\n",
      "4. ratings.csv\n",
      "5. ratings_small.csv\n",
      "6. keywords.csv\n"
     ]
    }
   ],
   "source": [
    "path = \"../datasets/the-movie-datasets\"\n",
    "path = Path(path)\n",
    "\n",
    "files = list(path.glob('*'))\n",
    "print(\"Files found:\")\n",
    "for i, file in enumerate(files):\n",
    "    print(f\"{i}. {file.name}\")"
   ]
  },
  {
   "cell_type": "markdown",
   "metadata": {},
   "source": [
    "## 3. เลือก metadata ไฟล์และแสดง info และ columns"
   ]
  },
  {
   "cell_type": "code",
   "execution_count": 68,
   "metadata": {},
   "outputs": [
    {
     "name": "stdout",
     "output_type": "stream",
     "text": [
      "Index(['adult', 'belongs_to_collection', 'budget', 'genres', 'homepage', 'id',\n",
      "       'imdb_id', 'original_language', 'original_title', 'overview',\n",
      "       'popularity', 'poster_path', 'production_companies',\n",
      "       'production_countries', 'release_date', 'revenue', 'runtime',\n",
      "       'spoken_languages', 'status', 'tagline', 'title', 'video',\n",
      "       'vote_average', 'vote_count'],\n",
      "      dtype='object')\n"
     ]
    },
    {
     "name": "stderr",
     "output_type": "stream",
     "text": [
      "/var/folders/7_/6rnw1yrs7p923fzd_64549v00000gn/T/ipykernel_65532/2040376892.py:1: DtypeWarning: Columns (10) have mixed types. Specify dtype option on import or set low_memory=False.\n",
      "  df_meta_data = pd.read_csv(files[3])\n"
     ]
    }
   ],
   "source": [
    "df_meta_data = pd.read_csv(files[3])\n",
    "print(df_meta_data.columns)"
   ]
  },
  {
   "cell_type": "markdown",
   "metadata": {},
   "source": [
    "## 4.Filter fields ที่ต้องการ"
   ]
  },
  {
   "cell_type": "code",
   "execution_count": 69,
   "metadata": {},
   "outputs": [],
   "source": [
    "df_meta = df_meta_data.filter(['id','original_title','genres','budget','revenue','vote_average','vote_count'])"
   ]
  },
  {
   "cell_type": "markdown",
   "metadata": {},
   "source": [
    "## 5. แสดง info"
   ]
  },
  {
   "cell_type": "code",
   "execution_count": 70,
   "metadata": {},
   "outputs": [
    {
     "name": "stdout",
     "output_type": "stream",
     "text": [
      "<class 'pandas.core.frame.DataFrame'>\n",
      "RangeIndex: 45466 entries, 0 to 45465\n",
      "Data columns (total 7 columns):\n",
      " #   Column          Non-Null Count  Dtype  \n",
      "---  ------          --------------  -----  \n",
      " 0   id              45466 non-null  object \n",
      " 1   original_title  45466 non-null  object \n",
      " 2   genres          45466 non-null  object \n",
      " 3   budget          45466 non-null  object \n",
      " 4   revenue         45460 non-null  float64\n",
      " 5   vote_average    45460 non-null  float64\n",
      " 6   vote_count      45460 non-null  float64\n",
      "dtypes: float64(3), object(4)\n",
      "memory usage: 2.4+ MB\n",
      "None\n"
     ]
    },
    {
     "data": {
      "text/html": [
       "<div>\n",
       "<style scoped>\n",
       "    .dataframe tbody tr th:only-of-type {\n",
       "        vertical-align: middle;\n",
       "    }\n",
       "\n",
       "    .dataframe tbody tr th {\n",
       "        vertical-align: top;\n",
       "    }\n",
       "\n",
       "    .dataframe thead th {\n",
       "        text-align: right;\n",
       "    }\n",
       "</style>\n",
       "<table border=\"1\" class=\"dataframe\">\n",
       "  <thead>\n",
       "    <tr style=\"text-align: right;\">\n",
       "      <th></th>\n",
       "      <th>id</th>\n",
       "      <th>original_title</th>\n",
       "      <th>genres</th>\n",
       "      <th>budget</th>\n",
       "      <th>revenue</th>\n",
       "      <th>vote_average</th>\n",
       "      <th>vote_count</th>\n",
       "    </tr>\n",
       "  </thead>\n",
       "  <tbody>\n",
       "    <tr>\n",
       "      <th>0</th>\n",
       "      <td>862</td>\n",
       "      <td>Toy Story</td>\n",
       "      <td>[{'id': 16, 'name': 'Animation'}, {'id': 35, '...</td>\n",
       "      <td>30000000</td>\n",
       "      <td>373554033.0</td>\n",
       "      <td>7.7</td>\n",
       "      <td>5415.0</td>\n",
       "    </tr>\n",
       "    <tr>\n",
       "      <th>1</th>\n",
       "      <td>8844</td>\n",
       "      <td>Jumanji</td>\n",
       "      <td>[{'id': 12, 'name': 'Adventure'}, {'id': 14, '...</td>\n",
       "      <td>65000000</td>\n",
       "      <td>262797249.0</td>\n",
       "      <td>6.9</td>\n",
       "      <td>2413.0</td>\n",
       "    </tr>\n",
       "    <tr>\n",
       "      <th>2</th>\n",
       "      <td>15602</td>\n",
       "      <td>Grumpier Old Men</td>\n",
       "      <td>[{'id': 10749, 'name': 'Romance'}, {'id': 35, ...</td>\n",
       "      <td>0</td>\n",
       "      <td>0.0</td>\n",
       "      <td>6.5</td>\n",
       "      <td>92.0</td>\n",
       "    </tr>\n",
       "    <tr>\n",
       "      <th>3</th>\n",
       "      <td>31357</td>\n",
       "      <td>Waiting to Exhale</td>\n",
       "      <td>[{'id': 35, 'name': 'Comedy'}, {'id': 18, 'nam...</td>\n",
       "      <td>16000000</td>\n",
       "      <td>81452156.0</td>\n",
       "      <td>6.1</td>\n",
       "      <td>34.0</td>\n",
       "    </tr>\n",
       "    <tr>\n",
       "      <th>4</th>\n",
       "      <td>11862</td>\n",
       "      <td>Father of the Bride Part II</td>\n",
       "      <td>[{'id': 35, 'name': 'Comedy'}]</td>\n",
       "      <td>0</td>\n",
       "      <td>76578911.0</td>\n",
       "      <td>5.7</td>\n",
       "      <td>173.0</td>\n",
       "    </tr>\n",
       "    <tr>\n",
       "      <th>...</th>\n",
       "      <td>...</td>\n",
       "      <td>...</td>\n",
       "      <td>...</td>\n",
       "      <td>...</td>\n",
       "      <td>...</td>\n",
       "      <td>...</td>\n",
       "      <td>...</td>\n",
       "    </tr>\n",
       "    <tr>\n",
       "      <th>45461</th>\n",
       "      <td>439050</td>\n",
       "      <td>رگ خواب</td>\n",
       "      <td>[{'id': 18, 'name': 'Drama'}, {'id': 10751, 'n...</td>\n",
       "      <td>0</td>\n",
       "      <td>0.0</td>\n",
       "      <td>4.0</td>\n",
       "      <td>1.0</td>\n",
       "    </tr>\n",
       "    <tr>\n",
       "      <th>45462</th>\n",
       "      <td>111109</td>\n",
       "      <td>Siglo ng Pagluluwal</td>\n",
       "      <td>[{'id': 18, 'name': 'Drama'}]</td>\n",
       "      <td>0</td>\n",
       "      <td>0.0</td>\n",
       "      <td>9.0</td>\n",
       "      <td>3.0</td>\n",
       "    </tr>\n",
       "    <tr>\n",
       "      <th>45463</th>\n",
       "      <td>67758</td>\n",
       "      <td>Betrayal</td>\n",
       "      <td>[{'id': 28, 'name': 'Action'}, {'id': 18, 'nam...</td>\n",
       "      <td>0</td>\n",
       "      <td>0.0</td>\n",
       "      <td>3.8</td>\n",
       "      <td>6.0</td>\n",
       "    </tr>\n",
       "    <tr>\n",
       "      <th>45464</th>\n",
       "      <td>227506</td>\n",
       "      <td>Satana likuyushchiy</td>\n",
       "      <td>[]</td>\n",
       "      <td>0</td>\n",
       "      <td>0.0</td>\n",
       "      <td>0.0</td>\n",
       "      <td>0.0</td>\n",
       "    </tr>\n",
       "    <tr>\n",
       "      <th>45465</th>\n",
       "      <td>461257</td>\n",
       "      <td>Queerama</td>\n",
       "      <td>[]</td>\n",
       "      <td>0</td>\n",
       "      <td>0.0</td>\n",
       "      <td>0.0</td>\n",
       "      <td>0.0</td>\n",
       "    </tr>\n",
       "  </tbody>\n",
       "</table>\n",
       "<p>45466 rows × 7 columns</p>\n",
       "</div>"
      ],
      "text/plain": [
       "           id               original_title  \\\n",
       "0         862                    Toy Story   \n",
       "1        8844                      Jumanji   \n",
       "2       15602             Grumpier Old Men   \n",
       "3       31357            Waiting to Exhale   \n",
       "4       11862  Father of the Bride Part II   \n",
       "...       ...                          ...   \n",
       "45461  439050                      رگ خواب   \n",
       "45462  111109          Siglo ng Pagluluwal   \n",
       "45463   67758                     Betrayal   \n",
       "45464  227506          Satana likuyushchiy   \n",
       "45465  461257                     Queerama   \n",
       "\n",
       "                                                  genres    budget  \\\n",
       "0      [{'id': 16, 'name': 'Animation'}, {'id': 35, '...  30000000   \n",
       "1      [{'id': 12, 'name': 'Adventure'}, {'id': 14, '...  65000000   \n",
       "2      [{'id': 10749, 'name': 'Romance'}, {'id': 35, ...         0   \n",
       "3      [{'id': 35, 'name': 'Comedy'}, {'id': 18, 'nam...  16000000   \n",
       "4                         [{'id': 35, 'name': 'Comedy'}]         0   \n",
       "...                                                  ...       ...   \n",
       "45461  [{'id': 18, 'name': 'Drama'}, {'id': 10751, 'n...         0   \n",
       "45462                      [{'id': 18, 'name': 'Drama'}]         0   \n",
       "45463  [{'id': 28, 'name': 'Action'}, {'id': 18, 'nam...         0   \n",
       "45464                                                 []         0   \n",
       "45465                                                 []         0   \n",
       "\n",
       "           revenue  vote_average  vote_count  \n",
       "0      373554033.0           7.7      5415.0  \n",
       "1      262797249.0           6.9      2413.0  \n",
       "2              0.0           6.5        92.0  \n",
       "3       81452156.0           6.1        34.0  \n",
       "4       76578911.0           5.7       173.0  \n",
       "...            ...           ...         ...  \n",
       "45461          0.0           4.0         1.0  \n",
       "45462          0.0           9.0         3.0  \n",
       "45463          0.0           3.8         6.0  \n",
       "45464          0.0           0.0         0.0  \n",
       "45465          0.0           0.0         0.0  \n",
       "\n",
       "[45466 rows x 7 columns]"
      ]
     },
     "execution_count": 70,
     "metadata": {},
     "output_type": "execute_result"
    }
   ],
   "source": [
    "print(df_meta.info())\n",
    "df_meta\n"
   ]
  },
  {
   "cell_type": "markdown",
   "metadata": {},
   "source": [
    "## 6.ปรับ genre ให้เป็น store ข้อมูลเป็น List"
   ]
  },
  {
   "cell_type": "code",
   "execution_count": 71,
   "metadata": {},
   "outputs": [
    {
     "name": "stdout",
     "output_type": "stream",
     "text": [
      "<class 'pandas.core.series.Series'>\n",
      "RangeIndex: 45466 entries, 0 to 45465\n",
      "Series name: genres\n",
      "Non-Null Count  Dtype \n",
      "--------------  ----- \n",
      "43024 non-null  object\n",
      "dtypes: object(1)\n",
      "memory usage: 355.3+ KB\n"
     ]
    }
   ],
   "source": [
    "df_meta.genres = df_meta.genres.apply(eval).apply(lambda x: [genre['name'] for genre in x] if x else pd.NA)\n",
    "df_meta.genres.info()"
   ]
  },
  {
   "cell_type": "code",
   "execution_count": 72,
   "metadata": {},
   "outputs": [
    {
     "data": {
      "text/plain": [
       "0         [Animation, Comedy, Family]\n",
       "1        [Adventure, Fantasy, Family]\n",
       "2                   [Romance, Comedy]\n",
       "3            [Comedy, Drama, Romance]\n",
       "4                            [Comedy]\n",
       "                     ...             \n",
       "45461                 [Drama, Family]\n",
       "45462                         [Drama]\n",
       "45463       [Action, Drama, Thriller]\n",
       "45464                            <NA>\n",
       "45465                            <NA>\n",
       "Name: genres, Length: 45466, dtype: object"
      ]
     },
     "execution_count": 72,
     "metadata": {},
     "output_type": "execute_result"
    }
   ],
   "source": [
    "df_meta.genres"
   ]
  },
  {
   "cell_type": "markdown",
   "metadata": {},
   "source": [
    "## 7. drop ค่า null ใน field genre"
   ]
  },
  {
   "cell_type": "code",
   "execution_count": 73,
   "metadata": {},
   "outputs": [
    {
     "name": "stdout",
     "output_type": "stream",
     "text": [
      "<class 'pandas.core.series.Series'>\n",
      "Index: 43024 entries, 0 to 45463\n",
      "Series name: genres\n",
      "Non-Null Count  Dtype \n",
      "--------------  ----- \n",
      "43024 non-null  object\n",
      "dtypes: object(1)\n",
      "memory usage: 672.2+ KB\n"
     ]
    }
   ],
   "source": [
    "df_meta = df_meta.dropna(subset=['genres'])\n",
    "df_meta.genres.info()"
   ]
  },
  {
   "cell_type": "code",
   "execution_count": 74,
   "metadata": {},
   "outputs": [
    {
     "name": "stdout",
     "output_type": "stream",
     "text": [
      "<class 'pandas.core.frame.DataFrame'>\n",
      "Index: 43024 entries, 0 to 45463\n",
      "Data columns (total 7 columns):\n",
      " #   Column          Non-Null Count  Dtype  \n",
      "---  ------          --------------  -----  \n",
      " 0   id              43024 non-null  object \n",
      " 1   original_title  43024 non-null  object \n",
      " 2   genres          43024 non-null  object \n",
      " 3   budget          43024 non-null  object \n",
      " 4   revenue         43018 non-null  float64\n",
      " 5   vote_average    43018 non-null  float64\n",
      " 6   vote_count      43018 non-null  float64\n",
      "dtypes: float64(3), object(4)\n",
      "memory usage: 2.6+ MB\n"
     ]
    }
   ],
   "source": [
    "df_meta.info()"
   ]
  },
  {
   "cell_type": "markdown",
   "metadata": {},
   "source": [
    "## 8.จัดการค่า null ใน fields อื่นๆ"
   ]
  },
  {
   "cell_type": "code",
   "execution_count": 75,
   "metadata": {},
   "outputs": [
    {
     "data": {
      "text/html": [
       "<div>\n",
       "<style scoped>\n",
       "    .dataframe tbody tr th:only-of-type {\n",
       "        vertical-align: middle;\n",
       "    }\n",
       "\n",
       "    .dataframe tbody tr th {\n",
       "        vertical-align: top;\n",
       "    }\n",
       "\n",
       "    .dataframe thead th {\n",
       "        text-align: right;\n",
       "    }\n",
       "</style>\n",
       "<table border=\"1\" class=\"dataframe\">\n",
       "  <thead>\n",
       "    <tr style=\"text-align: right;\">\n",
       "      <th></th>\n",
       "      <th>id</th>\n",
       "      <th>original_title</th>\n",
       "      <th>genres</th>\n",
       "      <th>budget</th>\n",
       "      <th>revenue</th>\n",
       "      <th>vote_average</th>\n",
       "      <th>vote_count</th>\n",
       "    </tr>\n",
       "  </thead>\n",
       "  <tbody>\n",
       "    <tr>\n",
       "      <th>19729</th>\n",
       "      <td>82663</td>\n",
       "      <td>Midnight Man</td>\n",
       "      <td>[Action, Thriller, Drama]</td>\n",
       "      <td>0</td>\n",
       "      <td>NaN</td>\n",
       "      <td>NaN</td>\n",
       "      <td>NaN</td>\n",
       "    </tr>\n",
       "    <tr>\n",
       "      <th>19730</th>\n",
       "      <td>1997-08-20</td>\n",
       "      <td>[{'iso_639_1': 'en', 'name': 'English'}]</td>\n",
       "      <td>[Carousel Productions, Vision View Entertainme...</td>\n",
       "      <td>/ff9qCepilowshEtG2GYWwzt2bs4.jpg</td>\n",
       "      <td>NaN</td>\n",
       "      <td>NaN</td>\n",
       "      <td>NaN</td>\n",
       "    </tr>\n",
       "    <tr>\n",
       "      <th>29502</th>\n",
       "      <td>122662</td>\n",
       "      <td>マルドゥック・スクランブル 排気</td>\n",
       "      <td>[Animation, Science Fiction]</td>\n",
       "      <td>0</td>\n",
       "      <td>NaN</td>\n",
       "      <td>NaN</td>\n",
       "      <td>NaN</td>\n",
       "    </tr>\n",
       "    <tr>\n",
       "      <th>29503</th>\n",
       "      <td>2012-09-29</td>\n",
       "      <td>[{'iso_639_1': 'ja', 'name': '日本語'}]</td>\n",
       "      <td>[Aniplex, GoHands, BROSTA TV, Mardock Scramble...</td>\n",
       "      <td>/zV8bHuSL6WXoD6FWogP9j4x80bL.jpg</td>\n",
       "      <td>NaN</td>\n",
       "      <td>NaN</td>\n",
       "      <td>NaN</td>\n",
       "    </tr>\n",
       "    <tr>\n",
       "      <th>35586</th>\n",
       "      <td>249260</td>\n",
       "      <td>Avalanche Sharks</td>\n",
       "      <td>[TV Movie, Action, Horror, Science Fiction]</td>\n",
       "      <td>0</td>\n",
       "      <td>NaN</td>\n",
       "      <td>NaN</td>\n",
       "      <td>NaN</td>\n",
       "    </tr>\n",
       "    <tr>\n",
       "      <th>35587</th>\n",
       "      <td>2014-01-01</td>\n",
       "      <td>[{'iso_639_1': 'en', 'name': 'English'}]</td>\n",
       "      <td>[Odyssey Media, Pulser Productions, Rogue Stat...</td>\n",
       "      <td>/zaSf5OG7V8X8gqFvly88zDdRm46.jpg</td>\n",
       "      <td>NaN</td>\n",
       "      <td>NaN</td>\n",
       "      <td>NaN</td>\n",
       "    </tr>\n",
       "  </tbody>\n",
       "</table>\n",
       "</div>"
      ],
      "text/plain": [
       "               id                            original_title  \\\n",
       "19729       82663                              Midnight Man   \n",
       "19730  1997-08-20  [{'iso_639_1': 'en', 'name': 'English'}]   \n",
       "29502      122662                          マルドゥック・スクランブル 排気   \n",
       "29503  2012-09-29      [{'iso_639_1': 'ja', 'name': '日本語'}]   \n",
       "35586      249260                          Avalanche Sharks   \n",
       "35587  2014-01-01  [{'iso_639_1': 'en', 'name': 'English'}]   \n",
       "\n",
       "                                                  genres  \\\n",
       "19729                          [Action, Thriller, Drama]   \n",
       "19730  [Carousel Productions, Vision View Entertainme...   \n",
       "29502                       [Animation, Science Fiction]   \n",
       "29503  [Aniplex, GoHands, BROSTA TV, Mardock Scramble...   \n",
       "35586        [TV Movie, Action, Horror, Science Fiction]   \n",
       "35587  [Odyssey Media, Pulser Productions, Rogue Stat...   \n",
       "\n",
       "                                 budget  revenue  vote_average  vote_count  \n",
       "19729                                 0      NaN           NaN         NaN  \n",
       "19730  /ff9qCepilowshEtG2GYWwzt2bs4.jpg      NaN           NaN         NaN  \n",
       "29502                                 0      NaN           NaN         NaN  \n",
       "29503  /zV8bHuSL6WXoD6FWogP9j4x80bL.jpg      NaN           NaN         NaN  \n",
       "35586                                 0      NaN           NaN         NaN  \n",
       "35587  /zaSf5OG7V8X8gqFvly88zDdRm46.jpg      NaN           NaN         NaN  "
      ]
     },
     "execution_count": 75,
     "metadata": {},
     "output_type": "execute_result"
    }
   ],
   "source": [
    "df_meta[df_meta.revenue.isnull()]"
   ]
  },
  {
   "cell_type": "code",
   "execution_count": 76,
   "metadata": {},
   "outputs": [
    {
     "name": "stdout",
     "output_type": "stream",
     "text": [
      "<class 'pandas.core.frame.DataFrame'>\n",
      "Index: 43018 entries, 0 to 45463\n",
      "Data columns (total 7 columns):\n",
      " #   Column          Non-Null Count  Dtype  \n",
      "---  ------          --------------  -----  \n",
      " 0   id              43018 non-null  object \n",
      " 1   original_title  43018 non-null  object \n",
      " 2   genres          43018 non-null  object \n",
      " 3   budget          43018 non-null  object \n",
      " 4   revenue         43018 non-null  float64\n",
      " 5   vote_average    43018 non-null  float64\n",
      " 6   vote_count      43018 non-null  float64\n",
      "dtypes: float64(3), object(4)\n",
      "memory usage: 2.6+ MB\n"
     ]
    },
    {
     "name": "stderr",
     "output_type": "stream",
     "text": [
      "/var/folders/7_/6rnw1yrs7p923fzd_64549v00000gn/T/ipykernel_65532/1693232629.py:1: SettingWithCopyWarning: \n",
      "A value is trying to be set on a copy of a slice from a DataFrame\n",
      "\n",
      "See the caveats in the documentation: https://pandas.pydata.org/pandas-docs/stable/user_guide/indexing.html#returning-a-view-versus-a-copy\n",
      "  df_meta.dropna(subset=['revenue', 'vote_average', 'vote_count'],inplace=True)\n"
     ]
    }
   ],
   "source": [
    "df_meta.dropna(subset=['revenue', 'vote_average', 'vote_count'],inplace=True)\n",
    "df_meta.info()"
   ]
  },
  {
   "cell_type": "markdown",
   "metadata": {},
   "source": [
    "## 9.แปลง type ข้อมูล budget ให้เป็นตัวเลข "
   ]
  },
  {
   "cell_type": "code",
   "execution_count": 77,
   "metadata": {},
   "outputs": [
    {
     "name": "stdout",
     "output_type": "stream",
     "text": [
      "<class 'pandas.core.frame.DataFrame'>\n",
      "Index: 43018 entries, 0 to 45463\n",
      "Data columns (total 7 columns):\n",
      " #   Column          Non-Null Count  Dtype  \n",
      "---  ------          --------------  -----  \n",
      " 0   id              43018 non-null  object \n",
      " 1   original_title  43018 non-null  object \n",
      " 2   genres          43018 non-null  object \n",
      " 3   budget          43018 non-null  float64\n",
      " 4   revenue         43018 non-null  float64\n",
      " 5   vote_average    43018 non-null  float64\n",
      " 6   vote_count      43018 non-null  float64\n",
      "dtypes: float64(4), object(3)\n",
      "memory usage: 2.6+ MB\n"
     ]
    },
    {
     "name": "stderr",
     "output_type": "stream",
     "text": [
      "/var/folders/7_/6rnw1yrs7p923fzd_64549v00000gn/T/ipykernel_65532/1705662741.py:1: SettingWithCopyWarning: \n",
      "A value is trying to be set on a copy of a slice from a DataFrame.\n",
      "Try using .loc[row_indexer,col_indexer] = value instead\n",
      "\n",
      "See the caveats in the documentation: https://pandas.pydata.org/pandas-docs/stable/user_guide/indexing.html#returning-a-view-versus-a-copy\n",
      "  df_meta.budget = df_meta.budget.astype('float64')\n"
     ]
    }
   ],
   "source": [
    "df_meta.budget = df_meta.budget.astype('float64')\n",
    "df_meta.info()"
   ]
  },
  {
   "cell_type": "markdown",
   "metadata": {},
   "source": [
    "## 10.จัดการค่า 0 (ไม่มีค่า) ในข้อมูล"
   ]
  },
  {
   "cell_type": "code",
   "execution_count": 78,
   "metadata": {},
   "outputs": [
    {
     "data": {
      "text/html": [
       "<div>\n",
       "<style scoped>\n",
       "    .dataframe tbody tr th:only-of-type {\n",
       "        vertical-align: middle;\n",
       "    }\n",
       "\n",
       "    .dataframe tbody tr th {\n",
       "        vertical-align: top;\n",
       "    }\n",
       "\n",
       "    .dataframe thead th {\n",
       "        text-align: right;\n",
       "    }\n",
       "</style>\n",
       "<table border=\"1\" class=\"dataframe\">\n",
       "  <thead>\n",
       "    <tr style=\"text-align: right;\">\n",
       "      <th></th>\n",
       "      <th>id</th>\n",
       "      <th>original_title</th>\n",
       "      <th>genres</th>\n",
       "      <th>budget</th>\n",
       "      <th>revenue</th>\n",
       "      <th>vote_average</th>\n",
       "      <th>vote_count</th>\n",
       "    </tr>\n",
       "  </thead>\n",
       "  <tbody>\n",
       "    <tr>\n",
       "      <th>0</th>\n",
       "      <td>862</td>\n",
       "      <td>Toy Story</td>\n",
       "      <td>[Animation, Comedy, Family]</td>\n",
       "      <td>30000000.0</td>\n",
       "      <td>373554033.0</td>\n",
       "      <td>7.7</td>\n",
       "      <td>5415.0</td>\n",
       "    </tr>\n",
       "    <tr>\n",
       "      <th>1</th>\n",
       "      <td>8844</td>\n",
       "      <td>Jumanji</td>\n",
       "      <td>[Adventure, Fantasy, Family]</td>\n",
       "      <td>65000000.0</td>\n",
       "      <td>262797249.0</td>\n",
       "      <td>6.9</td>\n",
       "      <td>2413.0</td>\n",
       "    </tr>\n",
       "    <tr>\n",
       "      <th>2</th>\n",
       "      <td>15602</td>\n",
       "      <td>Grumpier Old Men</td>\n",
       "      <td>[Romance, Comedy]</td>\n",
       "      <td>0.0</td>\n",
       "      <td>0.0</td>\n",
       "      <td>6.5</td>\n",
       "      <td>92.0</td>\n",
       "    </tr>\n",
       "    <tr>\n",
       "      <th>3</th>\n",
       "      <td>31357</td>\n",
       "      <td>Waiting to Exhale</td>\n",
       "      <td>[Comedy, Drama, Romance]</td>\n",
       "      <td>16000000.0</td>\n",
       "      <td>81452156.0</td>\n",
       "      <td>6.1</td>\n",
       "      <td>34.0</td>\n",
       "    </tr>\n",
       "    <tr>\n",
       "      <th>4</th>\n",
       "      <td>11862</td>\n",
       "      <td>Father of the Bride Part II</td>\n",
       "      <td>[Comedy]</td>\n",
       "      <td>0.0</td>\n",
       "      <td>76578911.0</td>\n",
       "      <td>5.7</td>\n",
       "      <td>173.0</td>\n",
       "    </tr>\n",
       "    <tr>\n",
       "      <th>...</th>\n",
       "      <td>...</td>\n",
       "      <td>...</td>\n",
       "      <td>...</td>\n",
       "      <td>...</td>\n",
       "      <td>...</td>\n",
       "      <td>...</td>\n",
       "      <td>...</td>\n",
       "    </tr>\n",
       "    <tr>\n",
       "      <th>45459</th>\n",
       "      <td>222848</td>\n",
       "      <td>Caged Heat 3000</td>\n",
       "      <td>[Science Fiction]</td>\n",
       "      <td>0.0</td>\n",
       "      <td>0.0</td>\n",
       "      <td>3.5</td>\n",
       "      <td>1.0</td>\n",
       "    </tr>\n",
       "    <tr>\n",
       "      <th>45460</th>\n",
       "      <td>30840</td>\n",
       "      <td>Robin Hood</td>\n",
       "      <td>[Drama, Action, Romance]</td>\n",
       "      <td>0.0</td>\n",
       "      <td>0.0</td>\n",
       "      <td>5.7</td>\n",
       "      <td>26.0</td>\n",
       "    </tr>\n",
       "    <tr>\n",
       "      <th>45461</th>\n",
       "      <td>439050</td>\n",
       "      <td>رگ خواب</td>\n",
       "      <td>[Drama, Family]</td>\n",
       "      <td>0.0</td>\n",
       "      <td>0.0</td>\n",
       "      <td>4.0</td>\n",
       "      <td>1.0</td>\n",
       "    </tr>\n",
       "    <tr>\n",
       "      <th>45462</th>\n",
       "      <td>111109</td>\n",
       "      <td>Siglo ng Pagluluwal</td>\n",
       "      <td>[Drama]</td>\n",
       "      <td>0.0</td>\n",
       "      <td>0.0</td>\n",
       "      <td>9.0</td>\n",
       "      <td>3.0</td>\n",
       "    </tr>\n",
       "    <tr>\n",
       "      <th>45463</th>\n",
       "      <td>67758</td>\n",
       "      <td>Betrayal</td>\n",
       "      <td>[Action, Drama, Thriller]</td>\n",
       "      <td>0.0</td>\n",
       "      <td>0.0</td>\n",
       "      <td>3.8</td>\n",
       "      <td>6.0</td>\n",
       "    </tr>\n",
       "  </tbody>\n",
       "</table>\n",
       "<p>43018 rows × 7 columns</p>\n",
       "</div>"
      ],
      "text/plain": [
       "           id               original_title                        genres  \\\n",
       "0         862                    Toy Story   [Animation, Comedy, Family]   \n",
       "1        8844                      Jumanji  [Adventure, Fantasy, Family]   \n",
       "2       15602             Grumpier Old Men             [Romance, Comedy]   \n",
       "3       31357            Waiting to Exhale      [Comedy, Drama, Romance]   \n",
       "4       11862  Father of the Bride Part II                      [Comedy]   \n",
       "...       ...                          ...                           ...   \n",
       "45459  222848              Caged Heat 3000             [Science Fiction]   \n",
       "45460   30840                   Robin Hood      [Drama, Action, Romance]   \n",
       "45461  439050                      رگ خواب               [Drama, Family]   \n",
       "45462  111109          Siglo ng Pagluluwal                       [Drama]   \n",
       "45463   67758                     Betrayal     [Action, Drama, Thriller]   \n",
       "\n",
       "           budget      revenue  vote_average  vote_count  \n",
       "0      30000000.0  373554033.0           7.7      5415.0  \n",
       "1      65000000.0  262797249.0           6.9      2413.0  \n",
       "2             0.0          0.0           6.5        92.0  \n",
       "3      16000000.0   81452156.0           6.1        34.0  \n",
       "4             0.0   76578911.0           5.7       173.0  \n",
       "...           ...          ...           ...         ...  \n",
       "45459         0.0          0.0           3.5         1.0  \n",
       "45460         0.0          0.0           5.7        26.0  \n",
       "45461         0.0          0.0           4.0         1.0  \n",
       "45462         0.0          0.0           9.0         3.0  \n",
       "45463         0.0          0.0           3.8         6.0  \n",
       "\n",
       "[43018 rows x 7 columns]"
      ]
     },
     "execution_count": 78,
     "metadata": {},
     "output_type": "execute_result"
    }
   ],
   "source": [
    "df_meta"
   ]
  },
  {
   "cell_type": "code",
   "execution_count": 79,
   "metadata": {},
   "outputs": [
    {
     "name": "stdout",
     "output_type": "stream",
     "text": [
      "<class 'pandas.core.frame.DataFrame'>\n",
      "Index: 5364 entries, 0 to 45422\n",
      "Data columns (total 7 columns):\n",
      " #   Column          Non-Null Count  Dtype  \n",
      "---  ------          --------------  -----  \n",
      " 0   id              5364 non-null   object \n",
      " 1   original_title  5364 non-null   object \n",
      " 2   genres          5364 non-null   object \n",
      " 3   budget          5364 non-null   float64\n",
      " 4   revenue         5364 non-null   float64\n",
      " 5   vote_average    5364 non-null   float64\n",
      " 6   vote_count      5364 non-null   float64\n",
      "dtypes: float64(4), object(3)\n",
      "memory usage: 335.2+ KB\n"
     ]
    },
    {
     "name": "stderr",
     "output_type": "stream",
     "text": [
      "/var/folders/7_/6rnw1yrs7p923fzd_64549v00000gn/T/ipykernel_65532/1481327434.py:1: SettingWithCopyWarning: \n",
      "A value is trying to be set on a copy of a slice from a DataFrame\n",
      "\n",
      "See the caveats in the documentation: https://pandas.pydata.org/pandas-docs/stable/user_guide/indexing.html#returning-a-view-versus-a-copy\n",
      "  df_meta.drop(df_meta[(df_meta.budget == 0) | (df_meta.revenue == 0) | (df_meta.vote_average == 0) | (df_meta.vote_count == 0)].index,inplace=True)\n"
     ]
    }
   ],
   "source": [
    "df_meta.drop(df_meta[(df_meta.budget == 0) | (df_meta.revenue == 0) | (df_meta.vote_average == 0) | (df_meta.vote_count == 0)].index,inplace=True)\n",
    "df_meta.info()"
   ]
  },
  {
   "cell_type": "markdown",
   "metadata": {},
   "source": [
    "recheck"
   ]
  },
  {
   "cell_type": "code",
   "execution_count": 80,
   "metadata": {},
   "outputs": [
    {
     "data": {
      "text/html": [
       "<div>\n",
       "<style scoped>\n",
       "    .dataframe tbody tr th:only-of-type {\n",
       "        vertical-align: middle;\n",
       "    }\n",
       "\n",
       "    .dataframe tbody tr th {\n",
       "        vertical-align: top;\n",
       "    }\n",
       "\n",
       "    .dataframe thead th {\n",
       "        text-align: right;\n",
       "    }\n",
       "</style>\n",
       "<table border=\"1\" class=\"dataframe\">\n",
       "  <thead>\n",
       "    <tr style=\"text-align: right;\">\n",
       "      <th></th>\n",
       "      <th>id</th>\n",
       "      <th>original_title</th>\n",
       "      <th>genres</th>\n",
       "      <th>budget</th>\n",
       "      <th>revenue</th>\n",
       "      <th>vote_average</th>\n",
       "      <th>vote_count</th>\n",
       "    </tr>\n",
       "  </thead>\n",
       "  <tbody>\n",
       "  </tbody>\n",
       "</table>\n",
       "</div>"
      ],
      "text/plain": [
       "Empty DataFrame\n",
       "Columns: [id, original_title, genres, budget, revenue, vote_average, vote_count]\n",
       "Index: []"
      ]
     },
     "execution_count": 80,
     "metadata": {},
     "output_type": "execute_result"
    }
   ],
   "source": [
    "df_meta[df_meta.genres.apply(lambda x: len(x) == 0)]"
   ]
  },
  {
   "cell_type": "code",
   "execution_count": 81,
   "metadata": {},
   "outputs": [
    {
     "data": {
      "text/html": [
       "<div>\n",
       "<style scoped>\n",
       "    .dataframe tbody tr th:only-of-type {\n",
       "        vertical-align: middle;\n",
       "    }\n",
       "\n",
       "    .dataframe tbody tr th {\n",
       "        vertical-align: top;\n",
       "    }\n",
       "\n",
       "    .dataframe thead th {\n",
       "        text-align: right;\n",
       "    }\n",
       "</style>\n",
       "<table border=\"1\" class=\"dataframe\">\n",
       "  <thead>\n",
       "    <tr style=\"text-align: right;\">\n",
       "      <th></th>\n",
       "      <th>id</th>\n",
       "      <th>original_title</th>\n",
       "      <th>genres</th>\n",
       "      <th>budget</th>\n",
       "      <th>revenue</th>\n",
       "      <th>vote_average</th>\n",
       "      <th>vote_count</th>\n",
       "    </tr>\n",
       "  </thead>\n",
       "  <tbody>\n",
       "  </tbody>\n",
       "</table>\n",
       "</div>"
      ],
      "text/plain": [
       "Empty DataFrame\n",
       "Columns: [id, original_title, genres, budget, revenue, vote_average, vote_count]\n",
       "Index: []"
      ]
     },
     "execution_count": 81,
     "metadata": {},
     "output_type": "execute_result"
    }
   ],
   "source": [
    "df_meta[(df_meta.budget == 0) | (df_meta.revenue == 0) | (df_meta.vote_average == 0) | (df_meta.vote_count == 0)]"
   ]
  },
  {
   "cell_type": "markdown",
   "metadata": {},
   "source": [
    "## 11. set index ด้วย field id"
   ]
  },
  {
   "cell_type": "code",
   "execution_count": 82,
   "metadata": {},
   "outputs": [
    {
     "data": {
      "text/html": [
       "<div>\n",
       "<style scoped>\n",
       "    .dataframe tbody tr th:only-of-type {\n",
       "        vertical-align: middle;\n",
       "    }\n",
       "\n",
       "    .dataframe tbody tr th {\n",
       "        vertical-align: top;\n",
       "    }\n",
       "\n",
       "    .dataframe thead th {\n",
       "        text-align: right;\n",
       "    }\n",
       "</style>\n",
       "<table border=\"1\" class=\"dataframe\">\n",
       "  <thead>\n",
       "    <tr style=\"text-align: right;\">\n",
       "      <th></th>\n",
       "      <th>original_title</th>\n",
       "      <th>genres</th>\n",
       "      <th>budget</th>\n",
       "      <th>revenue</th>\n",
       "      <th>vote_average</th>\n",
       "      <th>vote_count</th>\n",
       "    </tr>\n",
       "    <tr>\n",
       "      <th>id</th>\n",
       "      <th></th>\n",
       "      <th></th>\n",
       "      <th></th>\n",
       "      <th></th>\n",
       "      <th></th>\n",
       "      <th></th>\n",
       "    </tr>\n",
       "  </thead>\n",
       "  <tbody>\n",
       "    <tr>\n",
       "      <th>862</th>\n",
       "      <td>Toy Story</td>\n",
       "      <td>[Animation, Comedy, Family]</td>\n",
       "      <td>30000000.0</td>\n",
       "      <td>373554033.0</td>\n",
       "      <td>7.7</td>\n",
       "      <td>5415.0</td>\n",
       "    </tr>\n",
       "    <tr>\n",
       "      <th>8844</th>\n",
       "      <td>Jumanji</td>\n",
       "      <td>[Adventure, Fantasy, Family]</td>\n",
       "      <td>65000000.0</td>\n",
       "      <td>262797249.0</td>\n",
       "      <td>6.9</td>\n",
       "      <td>2413.0</td>\n",
       "    </tr>\n",
       "    <tr>\n",
       "      <th>31357</th>\n",
       "      <td>Waiting to Exhale</td>\n",
       "      <td>[Comedy, Drama, Romance]</td>\n",
       "      <td>16000000.0</td>\n",
       "      <td>81452156.0</td>\n",
       "      <td>6.1</td>\n",
       "      <td>34.0</td>\n",
       "    </tr>\n",
       "    <tr>\n",
       "      <th>949</th>\n",
       "      <td>Heat</td>\n",
       "      <td>[Action, Crime, Drama, Thriller]</td>\n",
       "      <td>60000000.0</td>\n",
       "      <td>187436818.0</td>\n",
       "      <td>7.7</td>\n",
       "      <td>1886.0</td>\n",
       "    </tr>\n",
       "    <tr>\n",
       "      <th>9091</th>\n",
       "      <td>Sudden Death</td>\n",
       "      <td>[Action, Adventure, Thriller]</td>\n",
       "      <td>35000000.0</td>\n",
       "      <td>64350171.0</td>\n",
       "      <td>5.5</td>\n",
       "      <td>174.0</td>\n",
       "    </tr>\n",
       "    <tr>\n",
       "      <th>...</th>\n",
       "      <td>...</td>\n",
       "      <td>...</td>\n",
       "      <td>...</td>\n",
       "      <td>...</td>\n",
       "      <td>...</td>\n",
       "      <td>...</td>\n",
       "    </tr>\n",
       "    <tr>\n",
       "      <th>24049</th>\n",
       "      <td>சிவாஜி</td>\n",
       "      <td>[Action, Comedy, Drama]</td>\n",
       "      <td>12000000.0</td>\n",
       "      <td>19000000.0</td>\n",
       "      <td>6.9</td>\n",
       "      <td>25.0</td>\n",
       "    </tr>\n",
       "    <tr>\n",
       "      <th>280422</th>\n",
       "      <td>Все и сразу</td>\n",
       "      <td>[Crime, Comedy]</td>\n",
       "      <td>750000.0</td>\n",
       "      <td>3.0</td>\n",
       "      <td>6.0</td>\n",
       "      <td>4.0</td>\n",
       "    </tr>\n",
       "    <tr>\n",
       "      <th>62757</th>\n",
       "      <td>Dikari</td>\n",
       "      <td>[Comedy, Drama]</td>\n",
       "      <td>800000.0</td>\n",
       "      <td>1328612.0</td>\n",
       "      <td>5.8</td>\n",
       "      <td>6.0</td>\n",
       "    </tr>\n",
       "    <tr>\n",
       "      <th>63281</th>\n",
       "      <td>Про любоff</td>\n",
       "      <td>[Romance, Drama]</td>\n",
       "      <td>2000000.0</td>\n",
       "      <td>1268793.0</td>\n",
       "      <td>4.0</td>\n",
       "      <td>3.0</td>\n",
       "    </tr>\n",
       "    <tr>\n",
       "      <th>63898</th>\n",
       "      <td>Антидурь</td>\n",
       "      <td>[Action, Comedy, Crime, Foreign]</td>\n",
       "      <td>5000000.0</td>\n",
       "      <td>1413000.0</td>\n",
       "      <td>1.0</td>\n",
       "      <td>1.0</td>\n",
       "    </tr>\n",
       "  </tbody>\n",
       "</table>\n",
       "<p>5364 rows × 6 columns</p>\n",
       "</div>"
      ],
      "text/plain": [
       "           original_title                            genres      budget  \\\n",
       "id                                                                        \n",
       "862             Toy Story       [Animation, Comedy, Family]  30000000.0   \n",
       "8844              Jumanji      [Adventure, Fantasy, Family]  65000000.0   \n",
       "31357   Waiting to Exhale          [Comedy, Drama, Romance]  16000000.0   \n",
       "949                  Heat  [Action, Crime, Drama, Thriller]  60000000.0   \n",
       "9091         Sudden Death     [Action, Adventure, Thriller]  35000000.0   \n",
       "...                   ...                               ...         ...   \n",
       "24049              சிவாஜி           [Action, Comedy, Drama]  12000000.0   \n",
       "280422        Все и сразу                   [Crime, Comedy]    750000.0   \n",
       "62757              Dikari                   [Comedy, Drama]    800000.0   \n",
       "63281          Про любоff                  [Romance, Drama]   2000000.0   \n",
       "63898            Антидурь  [Action, Comedy, Crime, Foreign]   5000000.0   \n",
       "\n",
       "            revenue  vote_average  vote_count  \n",
       "id                                             \n",
       "862     373554033.0           7.7      5415.0  \n",
       "8844    262797249.0           6.9      2413.0  \n",
       "31357    81452156.0           6.1        34.0  \n",
       "949     187436818.0           7.7      1886.0  \n",
       "9091     64350171.0           5.5       174.0  \n",
       "...             ...           ...         ...  \n",
       "24049    19000000.0           6.9        25.0  \n",
       "280422          3.0           6.0         4.0  \n",
       "62757     1328612.0           5.8         6.0  \n",
       "63281     1268793.0           4.0         3.0  \n",
       "63898     1413000.0           1.0         1.0  \n",
       "\n",
       "[5364 rows x 6 columns]"
      ]
     },
     "execution_count": 82,
     "metadata": {},
     "output_type": "execute_result"
    }
   ],
   "source": [
    "df_meta.set_index('id',inplace=True)\n",
    "df_meta"
   ]
  },
  {
   "cell_type": "markdown",
   "metadata": {},
   "source": [
    "## 12. drop ค่าที่ duplicate"
   ]
  },
  {
   "cell_type": "code",
   "execution_count": 83,
   "metadata": {},
   "outputs": [
    {
     "data": {
      "text/html": [
       "<div>\n",
       "<style scoped>\n",
       "    .dataframe tbody tr th:only-of-type {\n",
       "        vertical-align: middle;\n",
       "    }\n",
       "\n",
       "    .dataframe tbody tr th {\n",
       "        vertical-align: top;\n",
       "    }\n",
       "\n",
       "    .dataframe thead th {\n",
       "        text-align: right;\n",
       "    }\n",
       "</style>\n",
       "<table border=\"1\" class=\"dataframe\">\n",
       "  <thead>\n",
       "    <tr style=\"text-align: right;\">\n",
       "      <th></th>\n",
       "      <th>original_title</th>\n",
       "      <th>genres</th>\n",
       "      <th>budget</th>\n",
       "      <th>revenue</th>\n",
       "      <th>vote_average</th>\n",
       "      <th>vote_count</th>\n",
       "    </tr>\n",
       "    <tr>\n",
       "      <th>id</th>\n",
       "      <th></th>\n",
       "      <th></th>\n",
       "      <th></th>\n",
       "      <th></th>\n",
       "      <th></th>\n",
       "      <th></th>\n",
       "    </tr>\n",
       "  </thead>\n",
       "  <tbody>\n",
       "  </tbody>\n",
       "</table>\n",
       "</div>"
      ],
      "text/plain": [
       "Empty DataFrame\n",
       "Columns: [original_title, genres, budget, revenue, vote_average, vote_count]\n",
       "Index: []"
      ]
     },
     "execution_count": 83,
     "metadata": {},
     "output_type": "execute_result"
    }
   ],
   "source": [
    "df_meta = df_meta[~df_meta.index.duplicated(keep='first')]\n",
    "df_meta[df_meta.index.duplicated(keep=False)] "
   ]
  },
  {
   "cell_type": "markdown",
   "metadata": {},
   "source": [
    "## 13.ลบ special characters ออกจาก movie name"
   ]
  },
  {
   "cell_type": "markdown",
   "metadata": {},
   "source": [
    "valid only English and non-English characters with lower case"
   ]
  },
  {
   "cell_type": "code",
   "execution_count": 84,
   "metadata": {},
   "outputs": [
    {
     "name": "stderr",
     "output_type": "stream",
     "text": [
      "/var/folders/7_/6rnw1yrs7p923fzd_64549v00000gn/T/ipykernel_65532/1818281821.py:1: SettingWithCopyWarning: \n",
      "A value is trying to be set on a copy of a slice from a DataFrame.\n",
      "Try using .loc[row_indexer,col_indexer] = value instead\n",
      "\n",
      "See the caveats in the documentation: https://pandas.pydata.org/pandas-docs/stable/user_guide/indexing.html#returning-a-view-versus-a-copy\n",
      "  df_meta['original_title'] = df_meta['original_title'].str.replace(r'[^a-zA-Z0-9\\s\\u0080-\\uFFFF]', '', regex=True).str.lower()\n"
     ]
    }
   ],
   "source": [
    "df_meta['original_title'] = df_meta['original_title'].str.replace(r'[^a-zA-Z0-9\\s\\u0080-\\uFFFF]', '', regex=True).str.lower()"
   ]
  },
  {
   "cell_type": "markdown",
   "metadata": {},
   "source": [
    "## 14.แสดงข้อมูลที่ทำความสะอาดแล้ว"
   ]
  },
  {
   "cell_type": "code",
   "execution_count": 85,
   "metadata": {},
   "outputs": [
    {
     "name": "stdout",
     "output_type": "stream",
     "text": [
      "<class 'pandas.core.frame.DataFrame'>\n",
      "Index: 5358 entries, 862 to 63898\n",
      "Data columns (total 6 columns):\n",
      " #   Column          Non-Null Count  Dtype  \n",
      "---  ------          --------------  -----  \n",
      " 0   original_title  5358 non-null   object \n",
      " 1   genres          5358 non-null   object \n",
      " 2   budget          5358 non-null   float64\n",
      " 3   revenue         5358 non-null   float64\n",
      " 4   vote_average    5358 non-null   float64\n",
      " 5   vote_count      5358 non-null   float64\n",
      "dtypes: float64(4), object(2)\n",
      "memory usage: 422.1+ KB\n",
      "None\n"
     ]
    },
    {
     "data": {
      "text/html": [
       "<div>\n",
       "<style scoped>\n",
       "    .dataframe tbody tr th:only-of-type {\n",
       "        vertical-align: middle;\n",
       "    }\n",
       "\n",
       "    .dataframe tbody tr th {\n",
       "        vertical-align: top;\n",
       "    }\n",
       "\n",
       "    .dataframe thead th {\n",
       "        text-align: right;\n",
       "    }\n",
       "</style>\n",
       "<table border=\"1\" class=\"dataframe\">\n",
       "  <thead>\n",
       "    <tr style=\"text-align: right;\">\n",
       "      <th></th>\n",
       "      <th>original_title</th>\n",
       "      <th>genres</th>\n",
       "      <th>budget</th>\n",
       "      <th>revenue</th>\n",
       "      <th>vote_average</th>\n",
       "      <th>vote_count</th>\n",
       "    </tr>\n",
       "    <tr>\n",
       "      <th>id</th>\n",
       "      <th></th>\n",
       "      <th></th>\n",
       "      <th></th>\n",
       "      <th></th>\n",
       "      <th></th>\n",
       "      <th></th>\n",
       "    </tr>\n",
       "  </thead>\n",
       "  <tbody>\n",
       "    <tr>\n",
       "      <th>862</th>\n",
       "      <td>toy story</td>\n",
       "      <td>[Animation, Comedy, Family]</td>\n",
       "      <td>30000000.0</td>\n",
       "      <td>373554033.0</td>\n",
       "      <td>7.7</td>\n",
       "      <td>5415.0</td>\n",
       "    </tr>\n",
       "    <tr>\n",
       "      <th>8844</th>\n",
       "      <td>jumanji</td>\n",
       "      <td>[Adventure, Fantasy, Family]</td>\n",
       "      <td>65000000.0</td>\n",
       "      <td>262797249.0</td>\n",
       "      <td>6.9</td>\n",
       "      <td>2413.0</td>\n",
       "    </tr>\n",
       "    <tr>\n",
       "      <th>31357</th>\n",
       "      <td>waiting to exhale</td>\n",
       "      <td>[Comedy, Drama, Romance]</td>\n",
       "      <td>16000000.0</td>\n",
       "      <td>81452156.0</td>\n",
       "      <td>6.1</td>\n",
       "      <td>34.0</td>\n",
       "    </tr>\n",
       "    <tr>\n",
       "      <th>949</th>\n",
       "      <td>heat</td>\n",
       "      <td>[Action, Crime, Drama, Thriller]</td>\n",
       "      <td>60000000.0</td>\n",
       "      <td>187436818.0</td>\n",
       "      <td>7.7</td>\n",
       "      <td>1886.0</td>\n",
       "    </tr>\n",
       "    <tr>\n",
       "      <th>9091</th>\n",
       "      <td>sudden death</td>\n",
       "      <td>[Action, Adventure, Thriller]</td>\n",
       "      <td>35000000.0</td>\n",
       "      <td>64350171.0</td>\n",
       "      <td>5.5</td>\n",
       "      <td>174.0</td>\n",
       "    </tr>\n",
       "    <tr>\n",
       "      <th>...</th>\n",
       "      <td>...</td>\n",
       "      <td>...</td>\n",
       "      <td>...</td>\n",
       "      <td>...</td>\n",
       "      <td>...</td>\n",
       "      <td>...</td>\n",
       "    </tr>\n",
       "    <tr>\n",
       "      <th>24049</th>\n",
       "      <td>சிவாஜி</td>\n",
       "      <td>[Action, Comedy, Drama]</td>\n",
       "      <td>12000000.0</td>\n",
       "      <td>19000000.0</td>\n",
       "      <td>6.9</td>\n",
       "      <td>25.0</td>\n",
       "    </tr>\n",
       "    <tr>\n",
       "      <th>280422</th>\n",
       "      <td>все и сразу</td>\n",
       "      <td>[Crime, Comedy]</td>\n",
       "      <td>750000.0</td>\n",
       "      <td>3.0</td>\n",
       "      <td>6.0</td>\n",
       "      <td>4.0</td>\n",
       "    </tr>\n",
       "    <tr>\n",
       "      <th>62757</th>\n",
       "      <td>dikari</td>\n",
       "      <td>[Comedy, Drama]</td>\n",
       "      <td>800000.0</td>\n",
       "      <td>1328612.0</td>\n",
       "      <td>5.8</td>\n",
       "      <td>6.0</td>\n",
       "    </tr>\n",
       "    <tr>\n",
       "      <th>63281</th>\n",
       "      <td>про любоff</td>\n",
       "      <td>[Romance, Drama]</td>\n",
       "      <td>2000000.0</td>\n",
       "      <td>1268793.0</td>\n",
       "      <td>4.0</td>\n",
       "      <td>3.0</td>\n",
       "    </tr>\n",
       "    <tr>\n",
       "      <th>63898</th>\n",
       "      <td>антидурь</td>\n",
       "      <td>[Action, Comedy, Crime, Foreign]</td>\n",
       "      <td>5000000.0</td>\n",
       "      <td>1413000.0</td>\n",
       "      <td>1.0</td>\n",
       "      <td>1.0</td>\n",
       "    </tr>\n",
       "  </tbody>\n",
       "</table>\n",
       "<p>5358 rows × 6 columns</p>\n",
       "</div>"
      ],
      "text/plain": [
       "           original_title                            genres      budget  \\\n",
       "id                                                                        \n",
       "862             toy story       [Animation, Comedy, Family]  30000000.0   \n",
       "8844              jumanji      [Adventure, Fantasy, Family]  65000000.0   \n",
       "31357   waiting to exhale          [Comedy, Drama, Romance]  16000000.0   \n",
       "949                  heat  [Action, Crime, Drama, Thriller]  60000000.0   \n",
       "9091         sudden death     [Action, Adventure, Thriller]  35000000.0   \n",
       "...                   ...                               ...         ...   \n",
       "24049              சிவாஜி           [Action, Comedy, Drama]  12000000.0   \n",
       "280422        все и сразу                   [Crime, Comedy]    750000.0   \n",
       "62757              dikari                   [Comedy, Drama]    800000.0   \n",
       "63281          про любоff                  [Romance, Drama]   2000000.0   \n",
       "63898            антидурь  [Action, Comedy, Crime, Foreign]   5000000.0   \n",
       "\n",
       "            revenue  vote_average  vote_count  \n",
       "id                                             \n",
       "862     373554033.0           7.7      5415.0  \n",
       "8844    262797249.0           6.9      2413.0  \n",
       "31357    81452156.0           6.1        34.0  \n",
       "949     187436818.0           7.7      1886.0  \n",
       "9091     64350171.0           5.5       174.0  \n",
       "...             ...           ...         ...  \n",
       "24049    19000000.0           6.9        25.0  \n",
       "280422          3.0           6.0         4.0  \n",
       "62757     1328612.0           5.8         6.0  \n",
       "63281     1268793.0           4.0         3.0  \n",
       "63898     1413000.0           1.0         1.0  \n",
       "\n",
       "[5358 rows x 6 columns]"
      ]
     },
     "execution_count": 85,
     "metadata": {},
     "output_type": "execute_result"
    }
   ],
   "source": [
    "print(df_meta.info())\n",
    "df_meta"
   ]
  },
  {
   "cell_type": "code",
   "execution_count": 86,
   "metadata": {},
   "outputs": [
    {
     "data": {
      "text/plain": [
       "(array(['Animation', 'Adventure', 'Comedy', 'Action', 'History', 'Drama',\n",
       "        'Crime', 'Fantasy', 'Science Fiction', 'Horror', 'Romance',\n",
       "        'Mystery', 'Thriller', 'Documentary', 'Family', 'War', 'Western',\n",
       "        'Music', 'TV Movie', 'Foreign'], dtype=object),\n",
       " (20,))"
      ]
     },
     "execution_count": 86,
     "metadata": {},
     "output_type": "execute_result"
    }
   ],
   "source": [
    "genres = df_meta.genres.apply(lambda x: x[0]).unique()\n",
    "genres,genres.shape"
   ]
  },
  {
   "cell_type": "markdown",
   "metadata": {},
   "source": [
    "## 15. save csv"
   ]
  },
  {
   "cell_type": "code",
   "execution_count": 87,
   "metadata": {},
   "outputs": [],
   "source": [
    "df_meta.to_csv('movie_meta.csv')"
   ]
  }
 ],
 "metadata": {
  "kernelspec": {
   "display_name": "ds",
   "language": "python",
   "name": "python3"
  },
  "language_info": {
   "codemirror_mode": {
    "name": "ipython",
    "version": 3
   },
   "file_extension": ".py",
   "mimetype": "text/x-python",
   "name": "python",
   "nbconvert_exporter": "python",
   "pygments_lexer": "ipython3",
   "version": "3.12.7"
  }
 },
 "nbformat": 4,
 "nbformat_minor": 2
}
